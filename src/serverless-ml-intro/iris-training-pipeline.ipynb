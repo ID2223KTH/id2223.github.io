{
 "cells": [
  {
   "cell_type": "code",
   "execution_count": 30,
   "id": "063d9a22",
   "metadata": {},
   "outputs": [
    {
     "name": "stdout",
     "output_type": "stream",
     "text": [
      "The dotenv extension is already loaded. To reload it, use:\n",
      "  %reload_ext dotenv\n"
     ]
    }
   ],
   "source": [
    "import hopsworks\n",
    "import pandas as pd\n",
    "from sklearn.neighbors import KNeighborsClassifier\n",
    "from sklearn.metrics import accuracy_score\n",
    "from sklearn.metrics import confusion_matrix\n",
    "from sklearn.metrics import classification_report\n",
    "import seaborn as sns\n",
    "from matplotlib import pyplot\n",
    "from hsml.schema import Schema\n",
    "from hsml.model_schema import ModelSchema\n",
    "import joblib\n",
    "import os\n",
    "%load_ext dotenv\n",
    "%dotenv"
   ]
  },
  {
   "cell_type": "code",
   "execution_count": 31,
   "id": "ca8d99df",
   "metadata": {},
   "outputs": [
    {
     "name": "stdout",
     "output_type": "stream",
     "text": [
      "HOPSWORKS_API_KEY=y2WHvWdpbAPA7Tw6.XkhhnqlNskzUGKELP3sCx2qdC9tFu0YHsp6PYvcx76pbyqO1z4fWaBVhGnkYwYaG\n"
     ]
    }
   ],
   "source": [
    "import os\n",
    " \n",
    "for k, v in os.environ.items():\n",
    "    if \"HOPS\" in k:\n",
    "        print(f'{k}={v}')"
   ]
  },
  {
   "cell_type": "code",
   "execution_count": 32,
   "id": "5ce90341",
   "metadata": {},
   "outputs": [
    {
     "name": "stdout",
     "output_type": "stream",
     "text": [
      "Connected. Call `.close()` to terminate connection gracefully.\n",
      "\n",
      "Logged in to project, explore it here https://c.app.hopsworks.ai:443/p/197783\n",
      "Connected. Call `.close()` to terminate connection gracefully.\n"
     ]
    }
   ],
   "source": [
    "# You have to set the environment variable 'HOPSWORKS_API_KEY' for login to succeed\n",
    "project = hopsworks.login()\n",
    "fs = project.get_feature_store()"
   ]
  },
  {
   "cell_type": "code",
   "execution_count": 33,
   "id": "359ed7b3",
   "metadata": {},
   "outputs": [],
   "source": [
    "# The feature view is the input set of features for your model. The features can come from different feature groups.    \n",
    "# You can select features from different feature groups and join them together to create a feature view\n",
    "iris_fg = fs.get_feature_group(name=\"iris\", version=1)\n",
    "query = iris_fg.select_all()\n",
    "feature_view = fs.get_or_create_feature_view(name=\"iris\",\n",
    "                                  version=1,\n",
    "                                  description=\"Read from Iris flower dataset\",\n",
    "                                  labels=[\"variety\"],\n",
    "                                  query=query)"
   ]
  },
  {
   "cell_type": "code",
   "execution_count": 36,
   "id": "42fbcfd3",
   "metadata": {},
   "outputs": [
    {
     "name": "stdout",
     "output_type": "stream",
     "text": [
      "2023-11-16 19:00:43,358 INFO: Could not connect to ('3.128.208.87', 9085)\n",
      "Traceback (most recent call last):\n",
      "  File \"/Users/enric/anaconda3/lib/python3.11/site-packages/thrift/transport/TSocket.py\", line 137, in open\n",
      "    handle.connect(sockaddr)\n",
      "  File \"/Users/enric/anaconda3/lib/python3.11/ssl.py\", line 1412, in connect\n",
      "    self._real_connect(addr, False)\n",
      "  File \"/Users/enric/anaconda3/lib/python3.11/ssl.py\", line 1403, in _real_connect\n",
      "    self.do_handshake()\n",
      "  File \"/Users/enric/anaconda3/lib/python3.11/ssl.py\", line 1379, in do_handshake\n",
      "    self._sslobj.do_handshake()\n",
      "ConnectionResetError: [Errno 54] Connection reset by peer\n",
      "2023-11-16 19:00:43,360 ERROR: Could not connect to any of [('3.128.208.87', 9085)]\n"
     ]
    },
    {
     "ename": "ValueError",
     "evalue": "Cannot connect to hive server. Please check the host name 'c.app.hopsworks.ai' is correct and make sure port '9085' is open on host server.",
     "output_type": "error",
     "traceback": [
      "\u001b[0;31m---------------------------------------------------------------------------\u001b[0m",
      "\u001b[0;31mTTransportException\u001b[0m                       Traceback (most recent call last)",
      "File \u001b[0;32m~/anaconda3/lib/python3.11/site-packages/pyhive/hive.py:215\u001b[0m, in \u001b[0;36mConnection.__init__\u001b[0;34m(self, host, port, username, database, auth, configuration, kerberos_service_name, password, keystore, truststore, keystore_password, thrift_transport)\u001b[0m\n\u001b[1;32m    214\u001b[0m \u001b[39mtry\u001b[39;00m:\n\u001b[0;32m--> 215\u001b[0m     \u001b[39mself\u001b[39m\u001b[39m.\u001b[39m_transport\u001b[39m.\u001b[39mopen()\n\u001b[1;32m    216\u001b[0m     \u001b[39mif\u001b[39;00m auth \u001b[39m==\u001b[39m \u001b[39m'\u001b[39m\u001b[39mCERTIFICATES\u001b[39m\u001b[39m'\u001b[39m:\n\u001b[1;32m    217\u001b[0m         \u001b[39m# Hops code, send the JKS key/trustStores to hive to be used for impersonation\u001b[39;00m\n",
      "File \u001b[0;32m~/anaconda3/lib/python3.11/site-packages/thrift/transport/TTransport.py:155\u001b[0m, in \u001b[0;36mTBufferedTransport.open\u001b[0;34m(self)\u001b[0m\n\u001b[1;32m    154\u001b[0m \u001b[39mdef\u001b[39;00m \u001b[39mopen\u001b[39m(\u001b[39mself\u001b[39m):\n\u001b[0;32m--> 155\u001b[0m     \u001b[39mreturn\u001b[39;00m \u001b[39mself\u001b[39m\u001b[39m.\u001b[39m__trans\u001b[39m.\u001b[39mopen()\n",
      "File \u001b[0;32m~/anaconda3/lib/python3.11/site-packages/thrift/transport/TSSLSocket.py:301\u001b[0m, in \u001b[0;36mTSSLSocket.open\u001b[0;34m(self)\u001b[0m\n\u001b[1;32m    300\u001b[0m \u001b[39mdef\u001b[39;00m \u001b[39mopen\u001b[39m(\u001b[39mself\u001b[39m):\n\u001b[0;32m--> 301\u001b[0m     \u001b[39msuper\u001b[39m(TSSLSocket, \u001b[39mself\u001b[39m)\u001b[39m.\u001b[39mopen()\n\u001b[1;32m    302\u001b[0m     \u001b[39mif\u001b[39;00m \u001b[39mself\u001b[39m\u001b[39m.\u001b[39m_should_verify:\n",
      "File \u001b[0;32m~/anaconda3/lib/python3.11/site-packages/thrift/transport/TSocket.py:146\u001b[0m, in \u001b[0;36mTSocket.open\u001b[0;34m(self)\u001b[0m\n\u001b[1;32m    145\u001b[0m logger\u001b[39m.\u001b[39merror(msg)\n\u001b[0;32m--> 146\u001b[0m \u001b[39mraise\u001b[39;00m TTransportException(\u001b[39mtype\u001b[39m\u001b[39m=\u001b[39mTTransportException\u001b[39m.\u001b[39mNOT_OPEN, message\u001b[39m=\u001b[39mmsg)\n",
      "\u001b[0;31mTTransportException\u001b[0m: Could not connect to any of [('3.128.208.87', 9085)]",
      "\nDuring handling of the above exception, another exception occurred:\n",
      "\u001b[0;31mAttributeError\u001b[0m                            Traceback (most recent call last)",
      "File \u001b[0;32m~/anaconda3/lib/python3.11/site-packages/hsfs/engine/python.py:739\u001b[0m, in \u001b[0;36mEngine._create_hive_connection\u001b[0;34m(self, feature_store, hive_config)\u001b[0m\n\u001b[1;32m    738\u001b[0m \u001b[39mtry\u001b[39;00m:\n\u001b[0;32m--> 739\u001b[0m     \u001b[39mreturn\u001b[39;00m hive\u001b[39m.\u001b[39mConnection(\n\u001b[1;32m    740\u001b[0m         host\u001b[39m=\u001b[39mhost,\n\u001b[1;32m    741\u001b[0m         port\u001b[39m=\u001b[39m\u001b[39m9085\u001b[39m,\n\u001b[1;32m    742\u001b[0m         \u001b[39m# database needs to be set every time, 'default' doesn't work in pyhive\u001b[39;00m\n\u001b[1;32m    743\u001b[0m         database\u001b[39m=\u001b[39mfeature_store,\n\u001b[1;32m    744\u001b[0m         configuration\u001b[39m=\u001b[39mhive_config,\n\u001b[1;32m    745\u001b[0m         auth\u001b[39m=\u001b[39m\u001b[39m\"\u001b[39m\u001b[39mCERTIFICATES\u001b[39m\u001b[39m\"\u001b[39m,\n\u001b[1;32m    746\u001b[0m         truststore\u001b[39m=\u001b[39mclient\u001b[39m.\u001b[39mget_instance()\u001b[39m.\u001b[39m_get_jks_trust_store_path(),\n\u001b[1;32m    747\u001b[0m         keystore\u001b[39m=\u001b[39mclient\u001b[39m.\u001b[39mget_instance()\u001b[39m.\u001b[39m_get_jks_key_store_path(),\n\u001b[1;32m    748\u001b[0m         keystore_password\u001b[39m=\u001b[39mclient\u001b[39m.\u001b[39mget_instance()\u001b[39m.\u001b[39m_cert_key,\n\u001b[1;32m    749\u001b[0m     )\n\u001b[1;32m    750\u001b[0m \u001b[39mexcept\u001b[39;00m (TTransportException, \u001b[39mAttributeError\u001b[39;00m):\n",
      "File \u001b[0;32m~/anaconda3/lib/python3.11/site-packages/pyhive/hive.py:249\u001b[0m, in \u001b[0;36mConnection.__init__\u001b[0;34m(self, host, port, username, database, auth, configuration, kerberos_service_name, password, keystore, truststore, keystore_password, thrift_transport)\u001b[0m\n\u001b[1;32m    248\u001b[0m \u001b[39mexcept\u001b[39;00m:\n\u001b[0;32m--> 249\u001b[0m     \u001b[39mself\u001b[39m\u001b[39m.\u001b[39m_transport\u001b[39m.\u001b[39mclose()\n\u001b[1;32m    250\u001b[0m     \u001b[39mraise\u001b[39;00m\n",
      "File \u001b[0;32m~/anaconda3/lib/python3.11/site-packages/thrift/transport/TTransport.py:158\u001b[0m, in \u001b[0;36mTBufferedTransport.close\u001b[0;34m(self)\u001b[0m\n\u001b[1;32m    157\u001b[0m \u001b[39mdef\u001b[39;00m \u001b[39mclose\u001b[39m(\u001b[39mself\u001b[39m):\n\u001b[0;32m--> 158\u001b[0m     \u001b[39mreturn\u001b[39;00m \u001b[39mself\u001b[39m\u001b[39m.\u001b[39m__trans\u001b[39m.\u001b[39mclose()\n",
      "File \u001b[0;32m~/anaconda3/lib/python3.11/site-packages/thrift/transport/TSSLSocket.py:271\u001b[0m, in \u001b[0;36mTSSLSocket.close\u001b[0;34m(self)\u001b[0m\n\u001b[1;32m    270\u001b[0m \u001b[39mtry\u001b[39;00m:\n\u001b[0;32m--> 271\u001b[0m     \u001b[39mself\u001b[39m\u001b[39m.\u001b[39mhandle\u001b[39m.\u001b[39msettimeout(\u001b[39m0.001\u001b[39m)\n\u001b[1;32m    272\u001b[0m     \u001b[39mself\u001b[39m\u001b[39m.\u001b[39mhandle \u001b[39m=\u001b[39m \u001b[39mself\u001b[39m\u001b[39m.\u001b[39mhandle\u001b[39m.\u001b[39munwrap()\n",
      "\u001b[0;31mAttributeError\u001b[0m: 'NoneType' object has no attribute 'settimeout'",
      "\nDuring handling of the above exception, another exception occurred:\n",
      "\u001b[0;31mValueError\u001b[0m                                Traceback (most recent call last)",
      "\u001b[1;32m/Users/enric/Developer/id2223kth/src/serverless-ml-intro/iris-training-pipeline.ipynb Cell 5\u001b[0m line \u001b[0;36m2\n\u001b[1;32m      <a href='vscode-notebook-cell:/Users/enric/Developer/id2223kth/src/serverless-ml-intro/iris-training-pipeline.ipynb#W4sZmlsZQ%3D%3D?line=0'>1</a>\u001b[0m \u001b[39m# You can read training data, randomly split into train/test sets of features (X) and labels (y)        \u001b[39;00m\n\u001b[0;32m----> <a href='vscode-notebook-cell:/Users/enric/Developer/id2223kth/src/serverless-ml-intro/iris-training-pipeline.ipynb#W4sZmlsZQ%3D%3D?line=1'>2</a>\u001b[0m X_train, X_test, y_train, y_test \u001b[39m=\u001b[39m feature_view\u001b[39m.\u001b[39mtrain_test_split(\u001b[39m0.2\u001b[39m)\n\u001b[1;32m      <a href='vscode-notebook-cell:/Users/enric/Developer/id2223kth/src/serverless-ml-intro/iris-training-pipeline.ipynb#W4sZmlsZQ%3D%3D?line=3'>4</a>\u001b[0m \u001b[39m# Train our model with the Scikit-learn K-nearest-neighbors algorithm using our features (X_train) and labels (y_train)\u001b[39;00m\n\u001b[1;32m      <a href='vscode-notebook-cell:/Users/enric/Developer/id2223kth/src/serverless-ml-intro/iris-training-pipeline.ipynb#W4sZmlsZQ%3D%3D?line=4'>5</a>\u001b[0m model \u001b[39m=\u001b[39m KNeighborsClassifier(n_neighbors\u001b[39m=\u001b[39m\u001b[39m2\u001b[39m)\n",
      "File \u001b[0;32m~/anaconda3/lib/python3.11/site-packages/hsfs/feature_view.py:1810\u001b[0m, in \u001b[0;36mFeatureView.train_test_split\u001b[0;34m(self, test_size, train_start, train_end, test_start, test_end, description, extra_filter, statistics_config, read_options, spine)\u001b[0m\n\u001b[1;32m   1788\u001b[0m \u001b[39mself\u001b[39m\u001b[39m.\u001b[39m_validate_train_test_split(\n\u001b[1;32m   1789\u001b[0m     test_size\u001b[39m=\u001b[39mtest_size, train_end\u001b[39m=\u001b[39mtrain_end, test_start\u001b[39m=\u001b[39mtest_start\n\u001b[1;32m   1790\u001b[0m )\n\u001b[1;32m   1791\u001b[0m td \u001b[39m=\u001b[39m training_dataset\u001b[39m.\u001b[39mTrainingDataset(\n\u001b[1;32m   1792\u001b[0m     name\u001b[39m=\u001b[39m\u001b[39mself\u001b[39m\u001b[39m.\u001b[39mname,\n\u001b[1;32m   1793\u001b[0m     version\u001b[39m=\u001b[39m\u001b[39mNone\u001b[39;00m,\n\u001b[0;32m   (...)\u001b[0m\n\u001b[1;32m   1808\u001b[0m     extra_filter\u001b[39m=\u001b[39mextra_filter,\n\u001b[1;32m   1809\u001b[0m )\n\u001b[0;32m-> 1810\u001b[0m td, df \u001b[39m=\u001b[39m \u001b[39mself\u001b[39m\u001b[39m.\u001b[39m_feature_view_engine\u001b[39m.\u001b[39mget_training_data(\n\u001b[1;32m   1811\u001b[0m     \u001b[39mself\u001b[39m,\n\u001b[1;32m   1812\u001b[0m     read_options,\n\u001b[1;32m   1813\u001b[0m     training_dataset_obj\u001b[39m=\u001b[39mtd,\n\u001b[1;32m   1814\u001b[0m     splits\u001b[39m=\u001b[39m[TrainingDatasetSplit\u001b[39m.\u001b[39mTRAIN, TrainingDatasetSplit\u001b[39m.\u001b[39mTEST],\n\u001b[1;32m   1815\u001b[0m     spine\u001b[39m=\u001b[39mspine,\n\u001b[1;32m   1816\u001b[0m )\n\u001b[1;32m   1817\u001b[0m warnings\u001b[39m.\u001b[39mwarn(\n\u001b[1;32m   1818\u001b[0m     \u001b[39m\"\u001b[39m\u001b[39mIncremented version to `\u001b[39m\u001b[39m{}\u001b[39;00m\u001b[39m`.\u001b[39m\u001b[39m\"\u001b[39m\u001b[39m.\u001b[39mformat(td\u001b[39m.\u001b[39mversion),\n\u001b[1;32m   1819\u001b[0m     util\u001b[39m.\u001b[39mVersionWarning,\n\u001b[1;32m   1820\u001b[0m )\n\u001b[1;32m   1821\u001b[0m \u001b[39mreturn\u001b[39;00m df\n",
      "File \u001b[0;32m~/anaconda3/lib/python3.11/site-packages/hsfs/core/feature_view_engine.py:279\u001b[0m, in \u001b[0;36mFeatureViewEngine.get_training_data\u001b[0;34m(self, feature_view_obj, read_options, splits, training_dataset_obj, training_dataset_version, spine)\u001b[0m\n\u001b[1;32m    270\u001b[0m     \u001b[39mself\u001b[39m\u001b[39m.\u001b[39m_check_feature_group_accessibility(feature_view_obj)\n\u001b[1;32m    271\u001b[0m     query \u001b[39m=\u001b[39m \u001b[39mself\u001b[39m\u001b[39m.\u001b[39mget_batch_query(\n\u001b[1;32m    272\u001b[0m         feature_view_obj,\n\u001b[1;32m    273\u001b[0m         training_dataset_version\u001b[39m=\u001b[39mtd_updated\u001b[39m.\u001b[39mversion,\n\u001b[0;32m   (...)\u001b[0m\n\u001b[1;32m    277\u001b[0m         spine\u001b[39m=\u001b[39mspine,\n\u001b[1;32m    278\u001b[0m     )\n\u001b[0;32m--> 279\u001b[0m     split_df \u001b[39m=\u001b[39m engine\u001b[39m.\u001b[39mget_instance()\u001b[39m.\u001b[39mget_training_data(\n\u001b[1;32m    280\u001b[0m         td_updated, feature_view_obj, query, read_options\n\u001b[1;32m    281\u001b[0m     )\n\u001b[1;32m    282\u001b[0m     \u001b[39mself\u001b[39m\u001b[39m.\u001b[39mcompute_training_dataset_statistics(\n\u001b[1;32m    283\u001b[0m         feature_view_obj, td_updated, split_df, calc_stat\u001b[39m=\u001b[39m\u001b[39mTrue\u001b[39;00m\n\u001b[1;32m    284\u001b[0m     )\n\u001b[1;32m    286\u001b[0m \u001b[39m# split df into features and labels df\u001b[39;00m\n",
      "File \u001b[0;32m~/anaconda3/lib/python3.11/site-packages/hsfs/engine/python.py:546\u001b[0m, in \u001b[0;36mEngine.get_training_data\u001b[0;34m(self, training_dataset_obj, feature_view_obj, query_obj, read_options)\u001b[0m\n\u001b[1;32m    542\u001b[0m \u001b[39mdef\u001b[39;00m \u001b[39mget_training_data\u001b[39m(\n\u001b[1;32m    543\u001b[0m     \u001b[39mself\u001b[39m, training_dataset_obj, feature_view_obj, query_obj, read_options\n\u001b[1;32m    544\u001b[0m ):\n\u001b[1;32m    545\u001b[0m     \u001b[39mif\u001b[39;00m training_dataset_obj\u001b[39m.\u001b[39msplits:\n\u001b[0;32m--> 546\u001b[0m         \u001b[39mreturn\u001b[39;00m \u001b[39mself\u001b[39m\u001b[39m.\u001b[39m_prepare_transform_split_df(\n\u001b[1;32m    547\u001b[0m             query_obj, training_dataset_obj, feature_view_obj, read_options\n\u001b[1;32m    548\u001b[0m         )\n\u001b[1;32m    549\u001b[0m     \u001b[39melse\u001b[39;00m:\n\u001b[1;32m    550\u001b[0m         df \u001b[39m=\u001b[39m query_obj\u001b[39m.\u001b[39mread(read_options\u001b[39m=\u001b[39mread_options)\n",
      "File \u001b[0;32m~/anaconda3/lib/python3.11/site-packages/hsfs/engine/python.py:596\u001b[0m, in \u001b[0;36mEngine._prepare_transform_split_df\u001b[0;34m(self, query_obj, training_dataset_obj, feature_view_obj, read_option)\u001b[0m\n\u001b[1;32m    589\u001b[0m         result_dfs \u001b[39m=\u001b[39m \u001b[39mself\u001b[39m\u001b[39m.\u001b[39m_time_series_split(\n\u001b[1;32m    590\u001b[0m             query_obj\u001b[39m.\u001b[39mread(read_options\u001b[39m=\u001b[39mread_option),\n\u001b[1;32m    591\u001b[0m             training_dataset_obj,\n\u001b[1;32m    592\u001b[0m             event_time,\n\u001b[1;32m    593\u001b[0m         )\n\u001b[1;32m    594\u001b[0m \u001b[39melse\u001b[39;00m:\n\u001b[1;32m    595\u001b[0m     result_dfs \u001b[39m=\u001b[39m \u001b[39mself\u001b[39m\u001b[39m.\u001b[39m_random_split(\n\u001b[0;32m--> 596\u001b[0m         query_obj\u001b[39m.\u001b[39mread(read_options\u001b[39m=\u001b[39mread_option), training_dataset_obj\n\u001b[1;32m    597\u001b[0m     )\n\u001b[1;32m    599\u001b[0m \u001b[39m# apply transformations\u001b[39;00m\n\u001b[1;32m    600\u001b[0m \u001b[39m# 1st parametrise transformation functions with dt split stats\u001b[39;00m\n\u001b[1;32m    601\u001b[0m transformation_function_engine\u001b[39m.\u001b[39mTransformationFunctionEngine\u001b[39m.\u001b[39mpopulate_builtin_transformation_functions(\n\u001b[1;32m    602\u001b[0m     training_dataset_obj, feature_view_obj, result_dfs\n\u001b[1;32m    603\u001b[0m )\n",
      "File \u001b[0;32m~/anaconda3/lib/python3.11/site-packages/hsfs/constructor/query.py:153\u001b[0m, in \u001b[0;36mQuery.read\u001b[0;34m(self, online, dataframe_type, read_options)\u001b[0m\n\u001b[1;32m    148\u001b[0m     \u001b[39mif\u001b[39;00m \u001b[39mlen\u001b[39m(\u001b[39mself\u001b[39m\u001b[39m.\u001b[39mjoins) \u001b[39m>\u001b[39m \u001b[39m0\u001b[39m \u001b[39mor\u001b[39;00m \u001b[39mNone\u001b[39;00m \u001b[39min\u001b[39;00m [f\u001b[39m.\u001b[39mtype \u001b[39mfor\u001b[39;00m f \u001b[39min\u001b[39;00m schema]:\n\u001b[1;32m    149\u001b[0m         \u001b[39mraise\u001b[39;00m \u001b[39mValueError\u001b[39;00m(\n\u001b[1;32m    150\u001b[0m             \u001b[39m\"\u001b[39m\u001b[39mPandas types casting only supported for feature_group.read()/query.select_all()\u001b[39m\u001b[39m\"\u001b[39m\n\u001b[1;32m    151\u001b[0m         )\n\u001b[0;32m--> 153\u001b[0m \u001b[39mreturn\u001b[39;00m engine\u001b[39m.\u001b[39mget_instance()\u001b[39m.\u001b[39msql(\n\u001b[1;32m    154\u001b[0m     sql_query,\n\u001b[1;32m    155\u001b[0m     \u001b[39mself\u001b[39m\u001b[39m.\u001b[39m_feature_store_name,\n\u001b[1;32m    156\u001b[0m     online_conn,\n\u001b[1;32m    157\u001b[0m     dataframe_type,\n\u001b[1;32m    158\u001b[0m     read_options,\n\u001b[1;32m    159\u001b[0m     schema,\n\u001b[1;32m    160\u001b[0m )\n",
      "File \u001b[0;32m~/anaconda3/lib/python3.11/site-packages/hsfs/engine/python.py:106\u001b[0m, in \u001b[0;36mEngine.sql\u001b[0;34m(self, sql_query, feature_store, online_conn, dataframe_type, read_options, schema)\u001b[0m\n\u001b[1;32m     96\u001b[0m \u001b[39mdef\u001b[39;00m \u001b[39msql\u001b[39m(\n\u001b[1;32m     97\u001b[0m     \u001b[39mself\u001b[39m,\n\u001b[1;32m     98\u001b[0m     sql_query,\n\u001b[0;32m   (...)\u001b[0m\n\u001b[1;32m    103\u001b[0m     schema\u001b[39m=\u001b[39m\u001b[39mNone\u001b[39;00m,\n\u001b[1;32m    104\u001b[0m ):\n\u001b[1;32m    105\u001b[0m     \u001b[39mif\u001b[39;00m \u001b[39mnot\u001b[39;00m online_conn:\n\u001b[0;32m--> 106\u001b[0m         \u001b[39mreturn\u001b[39;00m \u001b[39mself\u001b[39m\u001b[39m.\u001b[39m_sql_offline(\n\u001b[1;32m    107\u001b[0m             sql_query,\n\u001b[1;32m    108\u001b[0m             feature_store,\n\u001b[1;32m    109\u001b[0m             dataframe_type,\n\u001b[1;32m    110\u001b[0m             schema,\n\u001b[1;32m    111\u001b[0m             hive_config\u001b[39m=\u001b[39mread_options\u001b[39m.\u001b[39mget(\u001b[39m\"\u001b[39m\u001b[39mhive_config\u001b[39m\u001b[39m\"\u001b[39m) \u001b[39mif\u001b[39;00m read_options \u001b[39melse\u001b[39;00m \u001b[39mNone\u001b[39;00m,\n\u001b[1;32m    112\u001b[0m         )\n\u001b[1;32m    113\u001b[0m     \u001b[39melse\u001b[39;00m:\n\u001b[1;32m    114\u001b[0m         \u001b[39mreturn\u001b[39;00m \u001b[39mself\u001b[39m\u001b[39m.\u001b[39m_jdbc(\n\u001b[1;32m    115\u001b[0m             sql_query, online_conn, dataframe_type, read_options, schema\n\u001b[1;32m    116\u001b[0m         )\n",
      "File \u001b[0;32m~/anaconda3/lib/python3.11/site-packages/hsfs/engine/python.py:138\u001b[0m, in \u001b[0;36mEngine._sql_offline\u001b[0;34m(self, sql_query, feature_store, dataframe_type, schema, hive_config)\u001b[0m\n\u001b[1;32m    132\u001b[0m     result_df \u001b[39m=\u001b[39m util\u001b[39m.\u001b[39mrun_with_loading_animation(\n\u001b[1;32m    133\u001b[0m         \u001b[39m\"\u001b[39m\u001b[39mReading data from Hopsworks, using ArrowFlight\u001b[39m\u001b[39m\"\u001b[39m,\n\u001b[1;32m    134\u001b[0m         arrow_flight_client\u001b[39m.\u001b[39mget_instance()\u001b[39m.\u001b[39mread_query,\n\u001b[1;32m    135\u001b[0m         sql_query,\n\u001b[1;32m    136\u001b[0m     )\n\u001b[1;32m    137\u001b[0m \u001b[39melse\u001b[39;00m:\n\u001b[0;32m--> 138\u001b[0m     \u001b[39mwith\u001b[39;00m \u001b[39mself\u001b[39m\u001b[39m.\u001b[39m_create_hive_connection(\n\u001b[1;32m    139\u001b[0m         feature_store, hive_config\u001b[39m=\u001b[39mhive_config\n\u001b[1;32m    140\u001b[0m     ) \u001b[39mas\u001b[39;00m hive_conn:\n\u001b[1;32m    141\u001b[0m         \u001b[39m# Suppress SQLAlchemy pandas warning\u001b[39;00m\n\u001b[1;32m    142\u001b[0m         \u001b[39mwith\u001b[39;00m warnings\u001b[39m.\u001b[39mcatch_warnings():\n\u001b[1;32m    143\u001b[0m             warnings\u001b[39m.\u001b[39msimplefilter(\u001b[39m\"\u001b[39m\u001b[39mignore\u001b[39m\u001b[39m\"\u001b[39m, \u001b[39mUserWarning\u001b[39;00m)\n",
      "File \u001b[0;32m~/anaconda3/lib/python3.11/site-packages/hsfs/engine/python.py:751\u001b[0m, in \u001b[0;36mEngine._create_hive_connection\u001b[0;34m(self, feature_store, hive_config)\u001b[0m\n\u001b[1;32m    739\u001b[0m     \u001b[39mreturn\u001b[39;00m hive\u001b[39m.\u001b[39mConnection(\n\u001b[1;32m    740\u001b[0m         host\u001b[39m=\u001b[39mhost,\n\u001b[1;32m    741\u001b[0m         port\u001b[39m=\u001b[39m\u001b[39m9085\u001b[39m,\n\u001b[0;32m   (...)\u001b[0m\n\u001b[1;32m    748\u001b[0m         keystore_password\u001b[39m=\u001b[39mclient\u001b[39m.\u001b[39mget_instance()\u001b[39m.\u001b[39m_cert_key,\n\u001b[1;32m    749\u001b[0m     )\n\u001b[1;32m    750\u001b[0m \u001b[39mexcept\u001b[39;00m (TTransportException, \u001b[39mAttributeError\u001b[39;00m):\n\u001b[0;32m--> 751\u001b[0m     \u001b[39mraise\u001b[39;00m \u001b[39mValueError\u001b[39;00m(\n\u001b[1;32m    752\u001b[0m         \u001b[39mf\u001b[39m\u001b[39m\"\u001b[39m\u001b[39mCannot connect to hive server. Please check the host name \u001b[39m\u001b[39m'\u001b[39m\u001b[39m{\u001b[39;00mclient\u001b[39m.\u001b[39mget_instance()\u001b[39m.\u001b[39m_host\u001b[39m}\u001b[39;00m\u001b[39m'\u001b[39m\u001b[39m \u001b[39m\u001b[39m\"\u001b[39m\n\u001b[1;32m    753\u001b[0m         \u001b[39m\"\u001b[39m\u001b[39mis correct and make sure port \u001b[39m\u001b[39m'\u001b[39m\u001b[39m9085\u001b[39m\u001b[39m'\u001b[39m\u001b[39m is open on host server.\u001b[39m\u001b[39m\"\u001b[39m\n\u001b[1;32m    754\u001b[0m     )\n\u001b[1;32m    755\u001b[0m \u001b[39mexcept\u001b[39;00m OperationalError \u001b[39mas\u001b[39;00m e:\n\u001b[1;32m    756\u001b[0m     \u001b[39mif\u001b[39;00m e\u001b[39m.\u001b[39margs[\u001b[39m0\u001b[39m]\u001b[39m.\u001b[39mstatus\u001b[39m.\u001b[39mstatusCode \u001b[39m==\u001b[39m \u001b[39m3\u001b[39m:\n",
      "\u001b[0;31mValueError\u001b[0m: Cannot connect to hive server. Please check the host name 'c.app.hopsworks.ai' is correct and make sure port '9085' is open on host server."
     ]
    }
   ],
   "source": [
    "# You can read training data, randomly split into train/test sets of features (X) and labels (y)        \n",
    "X_train, X_test, y_train, y_test = feature_view.train_test_split(0.2)\n",
    "\n",
    "# Train our model with the Scikit-learn K-nearest-neighbors algorithm using our features (X_train) and labels (y_train)\n",
    "model = KNeighborsClassifier(n_neighbors=2)\n",
    "model.fit(X_train, y_train.values.ravel())"
   ]
  },
  {
   "cell_type": "code",
   "execution_count": 37,
   "id": "77aa0aee",
   "metadata": {},
   "outputs": [],
   "source": [
    "# Evaluate model performance using the features from the test set (X_test)\n",
    "y_pred = model.predict(X_test)\n",
    "\n",
    "# Compare predictions (y_pred) with the labels in the test set (y_test)\n",
    "metrics = classification_report(y_test, y_pred, output_dict=True)\n",
    "results = confusion_matrix(y_test, y_pred)"
   ]
  },
  {
   "cell_type": "code",
   "execution_count": 38,
   "id": "4d944032",
   "metadata": {},
   "outputs": [
    {
     "data": {
      "image/png": "[encoded data removed]",
      "text/plain": [
       "<Figure size 640x480 with 2 Axes>"
      ]
     },
     "metadata": {},
     "output_type": "display_data"
    }
   ],
   "source": [
    "# Create the confusion matrix as a figure, we will later store it as a PNG image file\n",
    "df_cm = pd.DataFrame(results, ['True Setosa', 'True Versicolor', 'True Virginica'],\n",
    "                     ['Pred Setosa', 'Pred Versicolor', 'Pred Virginica'])\n",
    "cm = sns.heatmap(df_cm, annot=True)\n",
    "fig = cm.get_figure()"
   ]
  },
  {
   "cell_type": "code",
   "execution_count": 39,
   "id": "bcfdfc4f",
   "metadata": {},
   "outputs": [
    {
     "name": "stdout",
     "output_type": "stream",
     "text": [
      "Connected. Call `.close()` to terminate connection gracefully.\n"
     ]
    },
    {
     "name": "stderr",
     "output_type": "stream",
     "text": [
      "DeprecationWarning: The `ipykernel.comm.Comm` class has been deprecated. Please use the `comm` module instead.For creating comms, use the function `from comm import create_comm`.\n"
     ]
    },
    {
     "data": {
      "application/vnd.jupyter.widget-view+json": {
       "model_id": "fcba12e661e94822baaa17fbeff10757",
       "version_major": 2,
       "version_minor": 0
      },
      "text/plain": [
       "  0%|          | 0/6 [00:00<?, ?it/s]"
      ]
     },
     "metadata": {},
     "output_type": "display_data"
    },
    {
     "name": "stdout",
     "output_type": "stream",
     "text": [
      "Model created, explore it at https://c.app.hopsworks.ai:443/p/197783/models/iris_model/4\n"
     ]
    },
    {
     "data": {
      "text/plain": [
       "Model(name: 'iris_model', version: 4)"
      ]
     },
     "execution_count": 39,
     "metadata": {},
     "output_type": "execute_result"
    }
   ],
   "source": [
    "# We will now upload our model to the Hopsworks Model Registry. First get an object for the model registry.\n",
    "mr = project.get_model_registry()\n",
    "\n",
    "# The contents of the 'iris_model' directory will be saved to the model registry. Create the dir, first.\n",
    "model_dir=\"iris_model\"\n",
    "if os.path.isdir(model_dir) == False:\n",
    "    os.mkdir(model_dir)\n",
    "\n",
    "# Save both our model and the confusion matrix to 'model_dir', whose contents will be uploaded to the model registry\n",
    "joblib.dump(model, model_dir + \"/iris_model.pkl\")\n",
    "fig.savefig(model_dir + \"/confusion_matrix.png\")    \n",
    "\n",
    "# Specify the schema of the model's input/output using the features (X_train) and labels (y_train)\n",
    "input_schema = Schema(X_train)\n",
    "output_schema = Schema(y_train)\n",
    "model_schema = ModelSchema(input_schema, output_schema)\n",
    "\n",
    "# Create an entry in the model registry that includes the model's name, desc, metrics\n",
    "iris_model = mr.python.create_model(\n",
    "    name=\"iris_model\", \n",
    "    metrics={\"accuracy\" : metrics['accuracy']},\n",
    "    model_schema=model_schema,\n",
    "    description=\"Iris Flower Predictor\"\n",
    ")\n",
    "\n",
    "# Upload the model to the model registry, including all files in 'model_dir'\n",
    "iris_model.save(model_dir)"
   ]
  },
  {
   "cell_type": "code",
   "execution_count": null,
   "id": "f707b056",
   "metadata": {},
   "outputs": [],
   "source": []
  }
 ],
 "metadata": {
  "kernelspec": {
   "display_name": "Python 3 (ipykernel)",
   "language": "python",
   "name": "python3"
  },
  "language_info": {
   "codemirror_mode": {
    "name": "ipython",
    "version": 3
   },
   "file_extension": ".py",
   "mimetype": "text/x-python",
   "name": "python",
   "nbconvert_exporter": "python",
   "pygments_lexer": "ipython3",
   "version": "3.11.5"
  }
 },
 "nbformat": 4,
 "nbformat_minor": 5
}
